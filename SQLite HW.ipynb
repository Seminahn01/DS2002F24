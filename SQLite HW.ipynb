{
 "cells": [
  {
   "cell_type": "code",
   "execution_count": 1,
   "id": "de6d8504-c0ce-4b70-a042-0c0a96c7f6ae",
   "metadata": {},
   "outputs": [
    {
     "name": "stdout",
     "output_type": "stream",
     "text": [
      "studnet_grades.db created and connected!\n"
     ]
    }
   ],
   "source": [
    "import sqlite3\n",
    "\n",
    "connection = sqlite3.connect('student_grades.db')\n",
    "print(\"studnet_grades.db created and connected!\")"
   ]
  },
  {
   "cell_type": "code",
   "execution_count": 7,
   "id": "a48cae78-0a6d-4028-be39-a4c119e22322",
   "metadata": {},
   "outputs": [
    {
     "name": "stdout",
     "output_type": "stream",
     "text": [
      "Cursor created!\n"
     ]
    }
   ],
   "source": [
    "cursor = connection.cursor()\n",
    "print(\"Cursor created!\")"
   ]
  },
  {
   "cell_type": "code",
   "execution_count": 45,
   "id": "c734db2e-4431-42bf-8851-2c76d725d5e5",
   "metadata": {},
   "outputs": [
    {
     "name": "stdout",
     "output_type": "stream",
     "text": [
      "Cursor closed!\n"
     ]
    }
   ],
   "source": [
    "cursor.close ()\n",
    "\n",
    "print(\"Cursor closed!\")"
   ]
  },
  {
   "cell_type": "code",
   "execution_count": 49,
   "id": "6ff87cad-8a1a-4e5e-82d2-a395a3ed6fca",
   "metadata": {},
   "outputs": [
    {
     "name": "stdout",
     "output_type": "stream",
     "text": [
      "cursor created!\n",
      "Students table created!\n"
     ]
    }
   ],
   "source": [
    "cursor = connection.cursor()\n",
    "\n",
    "print(\"cursor created!\")\n",
    "cursor.execute('''\n",
    "CREATE TABLE IF NOT EXISTS students (\n",
    "    student_id INTEGER PRIMARY KEY AUTOINCREMENT,\n",
    "    first_name TEXT NOT NULL,\n",
    "    last_name TEXT\n",
    ")\n",
    "''')\n",
    "\n",
    "print(\"Students table created!\")"
   ]
  },
  {
   "cell_type": "code",
   "execution_count": 72,
   "id": "f60b69d3-e4ba-4069-8af4-ab5ab83ae9f5",
   "metadata": {},
   "outputs": [
    {
     "name": "stdout",
     "output_type": "stream",
     "text": [
      "Old grades table dropped!\n"
     ]
    }
   ],
   "source": [
    "cursor.execute('DROP TABLE IF EXISTS grades')\n",
    "connection.commit()\n",
    "print(\"Old grades table dropped!\")"
   ]
  },
  {
   "cell_type": "code",
   "execution_count": 74,
   "id": "b189d027-ac9a-4b6b-a697-0f64b45958ce",
   "metadata": {},
   "outputs": [
    {
     "name": "stdout",
     "output_type": "stream",
     "text": [
      "Grades table created!\n"
     ]
    }
   ],
   "source": [
    "cursor.execute('''\n",
    "CREATE TABLE IF NOT EXISTS grades (\n",
    "    grade_id INTEGER PRIMARY KEY AUTOINCREMENT,\n",
    "    student_id INTEGER,\n",
    "    subject TEXT,\n",
    "    grade INTEGER,\n",
    "    FOREIGN KEY(student_id) REFERENCES students(student_id)\n",
    ")\n",
    "''')\n",
    "\n",
    "print(\"Grades table created!\")"
   ]
  },
  {
   "cell_type": "code",
   "execution_count": 55,
   "id": "1e794590-5c27-4da9-a6c5-31764651aeca",
   "metadata": {},
   "outputs": [
    {
     "name": "stdout",
     "output_type": "stream",
     "text": [
      "Data inserted into the students table!\n"
     ]
    }
   ],
   "source": [
    "student_data = [\n",
    "    ('Alice', 'Johnson'),\n",
    "    ('Bob', 'Smith'),\n",
    "    ('Carol', 'White'),\n",
    "    ('David', 'Brown'),\n",
    "    ('Eve', 'Davis')\n",
    "]\n",
    "\n",
    "cursor.executemany('''\n",
    "INSERT INTO students (first_name, last_name) VALUES (?,?)\n",
    "''', student_data)\n",
    "\n",
    "connection.commit()\n",
    "\n",
    "print(\"Data inserted into the students table!\")\n"
   ]
  },
  {
   "cell_type": "code",
   "execution_count": 76,
   "id": "aefbb3e7-0f24-4f1d-9e06-d8aa33c91218",
   "metadata": {},
   "outputs": [
    {
     "name": "stdout",
     "output_type": "stream",
     "text": [
      "Data inserted into the grades table!\n"
     ]
    }
   ],
   "source": [
    "grades_data = [\n",
    "    (1, 'Math', 95),\n",
    "    (1, 'English', 88),\n",
    "    (1, 'History', 90),\n",
    "    (2, 'Math', 82),\n",
    "    (2, 'English', 76),\n",
    "    (2, 'History', 85)\n",
    "]\n",
    "\n",
    "cursor.executemany('''\n",
    "INSERT INTO grades (student_id, subject, grade) VALUES (?,?,?)\n",
    "''', grades_data)\n",
    "\n",
    "connection.commit()\n",
    "\n",
    "print(\"Data inserted into the grades table!\")\n"
   ]
  },
  {
   "cell_type": "code",
   "execution_count": 82,
   "id": "3bd39643-96af-431e-a5b7-a67389547f31",
   "metadata": {},
   "outputs": [
    {
     "name": "stdout",
     "output_type": "stream",
     "text": [
      "All students data:\n",
      "(1, 'Alice', 'Johnson')\n",
      "(2, 'Bob', 'Smith')\n",
      "(3, 'Carol', 'White')\n",
      "(4, 'David', 'Brown')\n",
      "(5, 'Eve', 'Davis')\n"
     ]
    }
   ],
   "source": [
    "cursor.execute (\"SELECT * FROM students\")\n",
    "rows = cursor.fetchall()\n",
    "\n",
    "print(\"All students data:\")\n",
    "for row in rows:\n",
    "    print(row) "
   ]
  },
  {
   "cell_type": "code",
   "execution_count": 84,
   "id": "48db2440-19d4-4871-b188-58d9f6cd81fb",
   "metadata": {},
   "outputs": [
    {
     "name": "stdout",
     "output_type": "stream",
     "text": [
      "All grades data:\n",
      "(1, 1, 'Math', 95)\n",
      "(2, 1, 'English', 88)\n",
      "(3, 1, 'History', 90)\n",
      "(4, 2, 'Math', 82)\n",
      "(5, 2, 'English', 76)\n",
      "(6, 2, 'History', 85)\n"
     ]
    }
   ],
   "source": [
    "cursor.execute (\"SELECT * FROM grades\")\n",
    "rows = cursor.fetchall()\n",
    "\n",
    "print(\"All grades data:\")\n",
    "for row in rows:\n",
    "    print(row) "
   ]
  },
  {
   "cell_type": "code",
   "execution_count": 90,
   "id": "551bff51-39e0-4ca6-bf1b-a659b6fbf2a7",
   "metadata": {},
   "outputs": [
    {
     "name": "stdout",
     "output_type": "stream",
     "text": [
      "Average grade for each studnet: 86.0\n"
     ]
    }
   ],
   "source": [
    "cursor.execute('''\n",
    "SELECT AVG(grade) FROM grades\n",
    "''')\n",
    "average_grade = cursor.fetchone()[0]\n",
    "\n",
    "print(f\"Average grade for each studnet: {average_grade}\")"
   ]
  },
  {
   "cell_type": "code",
   "execution_count": 100,
   "id": "380227b9-5b7a-494e-a947-b82323707f25",
   "metadata": {},
   "outputs": [
    {
     "name": "stdout",
     "output_type": "stream",
     "text": [
      "Student with the highest average grade: Alice Johnson with an average grade of 91.0\n"
     ]
    }
   ],
   "source": [
    "cursor.execute('''\n",
    "SELECT first_name, last_name, AVG(grade) AS avg_grade\n",
    "FROM students s\n",
    "JOIN grades g ON student_id = student_id\n",
    "GROUP BY student_id\n",
    "ORDER BY avg_grade DESC\n",
    "LIMIT 1\n",
    "''')\n",
    "\n",
    "row = cursor.fetchone()\n",
    "\n",
    "print(f\"Student with the highest average grade: {row[0]} {row[1]} with an average grade of {row[2]}\")\n",
    "\n"
   ]
  },
  {
   "cell_type": "code",
   "execution_count": 102,
   "id": "d9e383e4-bf23-4123-b0ca-e52aedb0b2a1",
   "metadata": {},
   "outputs": [
    {
     "name": "stdout",
     "output_type": "stream",
     "text": [
      "Average grade for the Math subject: 88.5\n"
     ]
    }
   ],
   "source": [
    "cursor.execute('''\n",
    "SELECT AVG(grade) \n",
    "FROM grades\n",
    "WHERE subject = 'Math'\n",
    "''')\n",
    "\n",
    "average_math_grade = cursor.fetchone()[0]\n",
    "\n",
    "print(f\"Average grade for the Math subject: {average_math_grade}\")\n"
   ]
  },
  {
   "cell_type": "code",
   "execution_count": 106,
   "id": "fba5d158-176e-4171-9d6c-c31aa832781e",
   "metadata": {},
   "outputs": [
    {
     "name": "stdout",
     "output_type": "stream",
     "text": [
      "Students who scored above 90 in any subject:\n",
      "Alice Johnson scored 95 in Math\n",
      "Bob Smith scored 95 in Math\n",
      "Carol White scored 95 in Math\n",
      "David Brown scored 95 in Math\n",
      "Eve Davis scored 95 in Math\n"
     ]
    }
   ],
   "source": [
    "cursor.execute('''\n",
    "SELECT first_name, last_name, subject, grade\n",
    "FROM students \n",
    "JOIN grades ON student_id = student_id\n",
    "WHERE grade > 90\n",
    "''')\n",
    "\n",
    "rows = cursor.fetchall()\n",
    "\n",
    "print(\"Students who scored above 90 in any subject:\")\n",
    "for row in rows:\n",
    "    print(f\"{row[0]} {row[1]} scored {row[3]} in {row[2]}\")\n"
   ]
  },
  {
   "cell_type": "code",
   "execution_count": 177,
   "id": "e045857f-efe6-438c-9a06-435f5aebf43f",
   "metadata": {},
   "outputs": [
    {
     "data": {
      "text/html": [
       "<div>\n",
       "<style scoped>\n",
       "    .dataframe tbody tr th:only-of-type {\n",
       "        vertical-align: middle;\n",
       "    }\n",
       "\n",
       "    .dataframe tbody tr th {\n",
       "        vertical-align: top;\n",
       "    }\n",
       "\n",
       "    .dataframe thead th {\n",
       "        text-align: right;\n",
       "    }\n",
       "</style>\n",
       "<table border=\"1\" class=\"dataframe\">\n",
       "  <thead>\n",
       "    <tr style=\"text-align: right;\">\n",
       "      <th></th>\n",
       "      <th>studnet_id</th>\n",
       "      <th>first_name</th>\n",
       "      <th>last_name</th>\n",
       "    </tr>\n",
       "  </thead>\n",
       "  <tbody>\n",
       "    <tr>\n",
       "      <th>0</th>\n",
       "      <td>1</td>\n",
       "      <td>Alice</td>\n",
       "      <td>Johnson</td>\n",
       "    </tr>\n",
       "    <tr>\n",
       "      <th>1</th>\n",
       "      <td>2</td>\n",
       "      <td>Bob</td>\n",
       "      <td>Smith</td>\n",
       "    </tr>\n",
       "    <tr>\n",
       "      <th>2</th>\n",
       "      <td>3</td>\n",
       "      <td>Carol</td>\n",
       "      <td>White</td>\n",
       "    </tr>\n",
       "    <tr>\n",
       "      <th>3</th>\n",
       "      <td>4</td>\n",
       "      <td>David</td>\n",
       "      <td>Brown</td>\n",
       "    </tr>\n",
       "    <tr>\n",
       "      <th>4</th>\n",
       "      <td>5</td>\n",
       "      <td>Eve</td>\n",
       "      <td>Davis</td>\n",
       "    </tr>\n",
       "  </tbody>\n",
       "</table>\n",
       "</div>"
      ],
      "text/plain": [
       "   studnet_id first_name last_name\n",
       "0           1      Alice   Johnson\n",
       "1           2        Bob     Smith\n",
       "2           3      Carol     White\n",
       "3           4      David     Brown\n",
       "4           5        Eve     Davis"
      ]
     },
     "execution_count": 177,
     "metadata": {},
     "output_type": "execute_result"
    }
   ],
   "source": [
    "import pandas as pd\n",
    "\n",
    "df = pd.read_sql_query('SELECT * FROM students', connection)\n",
    "\n",
    "df.head()"
   ]
  },
  {
   "cell_type": "code",
   "execution_count": 179,
   "id": "c6943b0b-244b-4ca0-b208-748cf56dba32",
   "metadata": {},
   "outputs": [
    {
     "data": {
      "text/html": [
       "<div>\n",
       "<style scoped>\n",
       "    .dataframe tbody tr th:only-of-type {\n",
       "        vertical-align: middle;\n",
       "    }\n",
       "\n",
       "    .dataframe tbody tr th {\n",
       "        vertical-align: top;\n",
       "    }\n",
       "\n",
       "    .dataframe thead th {\n",
       "        text-align: right;\n",
       "    }\n",
       "</style>\n",
       "<table border=\"1\" class=\"dataframe\">\n",
       "  <thead>\n",
       "    <tr style=\"text-align: right;\">\n",
       "      <th></th>\n",
       "      <th>grade_id</th>\n",
       "      <th>student_id</th>\n",
       "      <th>subject</th>\n",
       "      <th>grade</th>\n",
       "    </tr>\n",
       "  </thead>\n",
       "  <tbody>\n",
       "    <tr>\n",
       "      <th>0</th>\n",
       "      <td>1</td>\n",
       "      <td>1</td>\n",
       "      <td>Math</td>\n",
       "      <td>95</td>\n",
       "    </tr>\n",
       "    <tr>\n",
       "      <th>1</th>\n",
       "      <td>2</td>\n",
       "      <td>1</td>\n",
       "      <td>English</td>\n",
       "      <td>88</td>\n",
       "    </tr>\n",
       "    <tr>\n",
       "      <th>2</th>\n",
       "      <td>3</td>\n",
       "      <td>1</td>\n",
       "      <td>History</td>\n",
       "      <td>90</td>\n",
       "    </tr>\n",
       "    <tr>\n",
       "      <th>3</th>\n",
       "      <td>4</td>\n",
       "      <td>2</td>\n",
       "      <td>Math</td>\n",
       "      <td>82</td>\n",
       "    </tr>\n",
       "    <tr>\n",
       "      <th>4</th>\n",
       "      <td>5</td>\n",
       "      <td>2</td>\n",
       "      <td>English</td>\n",
       "      <td>76</td>\n",
       "    </tr>\n",
       "  </tbody>\n",
       "</table>\n",
       "</div>"
      ],
      "text/plain": [
       "   grade_id  student_id  subject  grade\n",
       "0         1           1     Math     95\n",
       "1         2           1  English     88\n",
       "2         3           1  History     90\n",
       "3         4           2     Math     82\n",
       "4         5           2  English     76"
      ]
     },
     "execution_count": 179,
     "metadata": {},
     "output_type": "execute_result"
    }
   ],
   "source": [
    "import pandas as pd\n",
    "\n",
    "df = pd.read_sql_query('SELECT * FROM grades', connection)\n",
    "\n",
    "df.head()"
   ]
  },
  {
   "cell_type": "code",
   "execution_count": 193,
   "id": "6afdf821-c10e-4438-950e-3d17857fbab8",
   "metadata": {},
   "outputs": [
    {
     "name": "stdout",
     "output_type": "stream",
     "text": [
      "Students with grades:\n",
      "Student ID: 1, Name: Alice Johnson, Subject: Math, Grade: 95\n",
      "Student ID: 1, Name: Bob Smith, Subject: Math, Grade: 95\n",
      "Student ID: 1, Name: Carol White, Subject: Math, Grade: 95\n",
      "Student ID: 1, Name: David Brown, Subject: Math, Grade: 95\n",
      "Student ID: 1, Name: Eve Davis, Subject: Math, Grade: 95\n",
      "Student ID: 1, Name: Alice Johnson, Subject: English, Grade: 88\n",
      "Student ID: 1, Name: Bob Smith, Subject: English, Grade: 88\n",
      "Student ID: 1, Name: Carol White, Subject: English, Grade: 88\n",
      "Student ID: 1, Name: David Brown, Subject: English, Grade: 88\n",
      "Student ID: 1, Name: Eve Davis, Subject: English, Grade: 88\n",
      "Student ID: 1, Name: Alice Johnson, Subject: History, Grade: 90\n",
      "Student ID: 1, Name: Bob Smith, Subject: History, Grade: 90\n",
      "Student ID: 1, Name: Carol White, Subject: History, Grade: 90\n",
      "Student ID: 1, Name: David Brown, Subject: History, Grade: 90\n",
      "Student ID: 1, Name: Eve Davis, Subject: History, Grade: 90\n",
      "Student ID: 2, Name: Alice Johnson, Subject: Math, Grade: 82\n",
      "Student ID: 2, Name: Bob Smith, Subject: Math, Grade: 82\n",
      "Student ID: 2, Name: Carol White, Subject: Math, Grade: 82\n",
      "Student ID: 2, Name: David Brown, Subject: Math, Grade: 82\n",
      "Student ID: 2, Name: Eve Davis, Subject: Math, Grade: 82\n",
      "Student ID: 2, Name: Alice Johnson, Subject: English, Grade: 76\n",
      "Student ID: 2, Name: Bob Smith, Subject: English, Grade: 76\n",
      "Student ID: 2, Name: Carol White, Subject: English, Grade: 76\n",
      "Student ID: 2, Name: David Brown, Subject: English, Grade: 76\n",
      "Student ID: 2, Name: Eve Davis, Subject: English, Grade: 76\n",
      "Student ID: 2, Name: Alice Johnson, Subject: History, Grade: 85\n",
      "Student ID: 2, Name: Bob Smith, Subject: History, Grade: 85\n",
      "Student ID: 2, Name: Carol White, Subject: History, Grade: 85\n",
      "Student ID: 2, Name: David Brown, Subject: History, Grade: 85\n",
      "Student ID: 2, Name: Eve Davis, Subject: History, Grade: 85\n"
     ]
    }
   ],
   "source": [
    "cursor.execute('''\n",
    "SELECT student_id, first_name, last_name, subject, grade\n",
    "FROM students \n",
    "JOIN grades ON student_id = student_id\n",
    "''')\n",
    "\n",
    "rows = cursor.fetchall()\n",
    "\n",
    "print(\"Students with grades:\")\n",
    "for row in rows:\n",
    "    print(f\"Student ID: {row[0]}, Name: {row[1]} {row[2]}, Subject: {row[3]}, Grade: {row[4]}\")\n",
    "\n"
   ]
  },
  {
   "cell_type": "code",
   "execution_count": 213,
   "id": "34436e16-40af-4755-af4b-9328ce537d49",
   "metadata": {},
   "outputs": [
    {
     "data": {
      "image/png": "[encoded data removed]",
      "text/plain": [
       "<Figure size 1000x600 with 1 Axes>"
      ]
     },
     "metadata": {},
     "output_type": "display_data"
    }
   ],
   "source": [
    "import matplotlib.pyplot as plt\n",
    "import numpy as np\n",
    "\n",
    "cursor.execute('''\n",
    "SELECT first_name, last_name, AVG(grade) \n",
    "FROM students \n",
    "JOIN grades ON student_id = student_id\n",
    "GROUP BY first_name\n",
    "''')\n",
    "\n",
    "student_data = cursor.fetchall()\n",
    "\n",
    "student_names = [f\"{row[0]} {row[1]}\" for row in student_data]\n",
    "average_grades = [row[2] for row in student_data]\n",
    "\n",
    "plt.figure(figsize=(10, 6))\n",
    "plt.bar(student_names, average_grades, color='skyblue')\n",
    "plt.xlabel('Student')\n",
    "plt.ylabel('Average Grade')\n",
    "plt.title('Average Grades for Each Student')\n",
    "plt.show()\n"
   ]
  },
  {
   "cell_type": "code",
   "execution_count": 215,
   "id": "d23721ea-42bb-484f-893d-90ce7b6343e8",
   "metadata": {},
   "outputs": [
    {
     "data": {
      "image/png": "[encoded data removed]",
      "text/plain": [
       "<Figure size 800x500 with 1 Axes>"
      ]
     },
     "metadata": {},
     "output_type": "display_data"
    }
   ],
   "source": [
    "cursor.execute('''\n",
    "SELECT subject, AVG(grade) AS avg_grade\n",
    "FROM grades\n",
    "GROUP BY subject\n",
    "''')\n",
    "\n",
    "subject_data = cursor.fetchall()\n",
    "\n",
    "\n",
    "subjects = [row[0] for row in subject_data]\n",
    "average_grades_per_subject = [row[1] for row in subject_data]\n",
    "\n",
    "\n",
    "plt.figure(figsize=(8, 5))\n",
    "plt.bar(subjects, average_grades_per_subject, color='lightgreen')\n",
    "plt.xlabel('Subject')\n",
    "plt.ylabel('Average Grade')\n",
    "plt.title('Average Grade for Each Subject')\n",
    "plt.tight_layout()\n",
    "plt.show()\n"
   ]
  },
  {
   "cell_type": "code",
   "execution_count": 217,
   "id": "146cf8cd-08bf-4328-9596-23853076d04d",
   "metadata": {},
   "outputs": [
    {
     "name": "stdout",
     "output_type": "stream",
     "text": [
      "Top students in each subject:\n",
      "Subject: English, Student: Alice Johnson, Highest Grade: 88\n",
      "Subject: History, Student: Alice Johnson, Highest Grade: 90\n",
      "Subject: Math, Student: Alice Johnson, Highest Grade: 95\n"
     ]
    }
   ],
   "source": [
    "cursor.execute('''\n",
    "SELECT first_name, last_name, subject, MAX(grade)\n",
    "FROM students \n",
    "JOIN grades ON student_id = student_id\n",
    "GROUP BY subject\n",
    "ORDER BY subject\n",
    "''')\n",
    "\n",
    "\n",
    "top_students = cursor.fetchall()\n",
    "\n",
    "\n",
    "print(\"Top students in each subject:\")\n",
    "for row in top_students:\n",
    "    print(f\"Subject: {row[2]}, Student: {row[0]} {row[1]}, Highest Grade: {row[3]}\")\n"
   ]
  },
  {
   "cell_type": "code",
   "execution_count": 219,
   "id": "db6e2e2d-d44e-4e42-b928-43cf6a9c56c7",
   "metadata": {},
   "outputs": [
    {
     "data": {
      "image/png": "[encoded data removed]",
      "text/plain": [
       "<Figure size 1000x600 with 1 Axes>"
      ]
     },
     "metadata": {},
     "output_type": "display_data"
    }
   ],
   "source": [
    "import matplotlib.pyplot as plt\n",
    "import numpy as np\n",
    "\n",
    "subjects = [row[2] for row in top_students] \n",
    "students = [f\"{row[0]} {row[1]}\" for row in top_students] \n",
    "highest_grades = [row[3] for row in top_students]\n",
    "\n",
    "\n",
    "unique_subjects = list(set(subjects))\n",
    "\n",
    "\n",
    "x = np.arange(len(unique_subjects))\n",
    "width = 0.35 \n",
    "\n",
    "\n",
    "plt.figure(figsize=(10, 6))\n",
    "\n",
    "plt.bar(x, highest_grades, width, label='Highest Grade')\n",
    "\n",
    "\n",
    "plt.xlabel('Subject')\n",
    "plt.ylabel('Grade')\n",
    "plt.title('Students with the Highest Grade in Each Subject')\n",
    "plt.xticks(x, unique_subjects)\n",
    "plt.legend()\n",
    "\n",
    "for i, (subject, grade, student) in enumerate(zip(unique_subjects, highest_grades, students)):\n",
    "    plt.text(i, grade + 0.5, f\"{student}\", ha='center', va='bottom')\n",
    "\n",
    "plt.tight_layout()\n",
    "plt.show()\n"
   ]
  },
  {
   "cell_type": "code",
   "execution_count": null,
   "id": "e9c53393-3ef2-4669-a693-bb09935860f9",
   "metadata": {},
   "outputs": [],
   "source": []
  }
 ],
 "metadata": {
  "kernelspec": {
   "display_name": "Python 3 (ipykernel)",
   "language": "python",
   "name": "python3"
  },
  "language_info": {
   "codemirror_mode": {
    "name": "ipython",
    "version": 3
   },
   "file_extension": ".py",
   "mimetype": "text/x-python",
   "name": "python",
   "nbconvert_exporter": "python",
   "pygments_lexer": "ipython3",
   "version": "3.12.4"
  }
 },
 "nbformat": 4,
 "nbformat_minor": 5
}
